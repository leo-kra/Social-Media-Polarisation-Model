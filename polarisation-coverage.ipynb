{
 "cells": [
  {
   "metadata": {},
   "cell_type": "code",
   "source": [
    "import pandas as pd\n",
    "import matplotlib.pyplot as plt\n",
    "import numpy as np\n",
    "import seaborn as sns"
   ],
   "id": "8d4dfc252beea7dc",
   "outputs": [],
   "execution_count": null
  },
  {
   "metadata": {},
   "cell_type": "code",
   "source": [
    "experiment = '1'\n",
    "first = f'{experiment}.1'\n",
    "second = f'{experiment}.2'\n",
    "third = f'{experiment}.3'\n",
    "# name = 'online-agent-percentage'"
   ],
   "id": "199d4d8beb190f1a",
   "outputs": [],
   "execution_count": null
  },
  {
   "metadata": {},
   "cell_type": "code",
   "source": [
    "data1 = pd.read_csv('experiments/baseline-experiment.csv', skiprows=6)\n",
    "data2 = pd.read_csv(f'experiments/experiment {first}.csv', skiprows=6)\n",
    "data3 = pd.read_csv(f'experiments/experiment {second}.csv', skiprows=6)\n",
    "data4 = pd.read_csv(f'experiments/experiment {third}.csv', skiprows=6)"
   ],
   "id": "28265bc8293e8fa6",
   "outputs": [],
   "execution_count": null
  },
  {
   "metadata": {},
   "cell_type": "code",
   "source": [
    "def calculate_coverage(data, run_number):\n",
    "    coverages = []\n",
    "    run_data = data[data['[run number]'] == run_number]\n",
    "    for _, row in run_data.iterrows():\n",
    "        opinions = list(map(float, row['[opinion] of turtles'].strip('[]').split()))\n",
    "        unique_opinions = len(set(opinions))\n",
    "        total_possible_opinions = len(np.arange(0, 1, 0.01)) \n",
    "        coverage = unique_opinions / total_possible_opinions\n",
    "        coverages.append(coverage)\n",
    "    return coverages\n",
    "\n",
    "coverages1 = calculate_coverage(data1, 1)\n",
    "coverages2 = calculate_coverage(data2, 1)\n",
    "coverages3 = calculate_coverage(data3, 2)\n",
    "coverages4 = calculate_coverage(data4, 4)\n",
    "\n",
    "df = pd.DataFrame({\n",
    "    'run_index': np.tile(np.arange(len(coverages1)), 4),\n",
    "    'coverage': coverages1 + coverages2 + coverages3 + coverages4,\n",
    "    'run': ['Baseline'] * len(coverages1) + [f'Experiment {first}'] * len(coverages2) + [f'Experiment {second}'] * len(coverages3) + [f'Experiment {third}'] * len(coverages4)\n",
    "})"
   ],
   "id": "9bf2f277c126c17f",
   "outputs": [],
   "execution_count": null
  },
  {
   "metadata": {},
   "cell_type": "code",
   "source": [
    "sns.set_palette(\"tab20\")\n",
    "plt.figure(figsize=(10, 6))\n",
    "sns.lineplot(data=df, x='run_index', y='coverage', hue='run', palette='tab20', errorbar=None)\n",
    "plt.xlabel('Time Steps (t)')\n",
    "plt.ylabel('Coverage')\n",
    "plt.ylim(0, 3.6)\n",
    "plt.legend()\n",
    "plt.grid(True)\n",
    "plt.savefig(f'plots/polarisation/coverage/experiment-{experiment}-coverage.png', dpi=300)\n",
    "plt.show()"
   ],
   "id": "782e60eb88dbc6ff",
   "outputs": [],
   "execution_count": null
  },
  {
   "metadata": {},
   "cell_type": "code",
   "source": "",
   "id": "c5563d5228f15ca0",
   "outputs": [],
   "execution_count": null
  }
 ],
 "metadata": {
  "kernelspec": {
   "display_name": "Python 3",
   "language": "python",
   "name": "python3"
  },
  "language_info": {
   "codemirror_mode": {
    "name": "ipython",
    "version": 2
   },
   "file_extension": ".py",
   "mimetype": "text/x-python",
   "name": "python",
   "nbconvert_exporter": "python",
   "pygments_lexer": "ipython2",
   "version": "2.7.6"
  }
 },
 "nbformat": 4,
 "nbformat_minor": 5
}
