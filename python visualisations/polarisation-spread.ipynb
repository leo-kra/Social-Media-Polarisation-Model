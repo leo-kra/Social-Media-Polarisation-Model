{
 "cells": [
  {
   "metadata": {},
   "cell_type": "code",
   "source": [
    "import pandas as pd\n",
    "import matplotlib.pyplot as plt\n",
    "from matplotlib.colors import LinearSegmentedColormap, LogNorm"
   ],
   "id": "8d4dfc252beea7dc",
   "outputs": [],
   "execution_count": null
  },
  {
   "metadata": {},
   "cell_type": "code",
   "source": [
    "experiment = '1'\n",
    "first = f'{experiment}.1'\n",
    "second = f'{experiment}.2'\n",
    "third = f'{experiment}.3'\n",
    "# name = 'online-agent-percentage'"
   ],
   "id": "199d4d8beb190f1a",
   "outputs": [],
   "execution_count": null
  },
  {
   "metadata": {},
   "cell_type": "code",
   "source": [
    "data1 = pd.read_csv('experiments/baseline-experiment.csv', skiprows=6)\n",
    "data2 = pd.read_csv(f'experiments/experiment {first}.csv', skiprows=6)\n",
    "data3 = pd.read_csv(f'experiments/experiment {second}.csv', skiprows=6)\n",
    "data4 = pd.read_csv(f'experiments/experiment {third}.csv', skiprows=6)"
   ],
   "id": "28265bc8293e8fa6",
   "outputs": [],
   "execution_count": null
  },
  {
   "metadata": {},
   "cell_type": "code",
   "source": [
    "def calculate_spread(data, run_number):\n",
    "    spreads = []\n",
    "    run_data = data[data['[run number]'] == run_number]\n",
    "    for _, row in run_data.iterrows():\n",
    "        opinions = list(map(float, row['[opinion] of turtles'].strip('[]').split()))\n",
    "        spread = max(opinions) - min(opinions)\n",
    "        spreads.append(spread)\n",
    "    return spreads\n",
    "\n",
    "spreads1 = calculate_spread(data1, 1)\n",
    "spreads2 = calculate_spread(data2, 2)\n",
    "spreads3 = calculate_spread(data3, 2)\n",
    "spreads4 = calculate_spread(data4, 4)"
   ],
   "id": "9bf2f277c126c17f",
   "outputs": [],
   "execution_count": null
  },
  {
   "metadata": {},
   "cell_type": "code",
   "source": [
    "plt.figure(figsize=(10, 6))\n",
    "plt.plot(spreads1, label='Baseline', color='blue')\n",
    "plt.plot(spreads2, label=f'Experiment {first}', color='black')\n",
    "plt.plot(spreads3, label=f'Experiment {second}', color='green')\n",
    "plt.plot(spreads4, label=f'Experiment {third}', color='red')\n",
    "plt.xlabel('Time Steps (t)')\n",
    "plt.ylabel('Spread')\n",
    "plt.ylim(0, 1.1)\n",
    "plt.legend()\n",
    "plt.savefig(f'plots/polarisation/spread/experiment-{experiment}-spread.png', dpi=300)\n",
    "plt.show()"
   ],
   "id": "782e60eb88dbc6ff",
   "outputs": [],
   "execution_count": null
  },
  {
   "metadata": {},
   "cell_type": "code",
   "source": "",
   "id": "c5563d5228f15ca0",
   "outputs": [],
   "execution_count": null
  }
 ],
 "metadata": {
  "kernelspec": {
   "display_name": "Python 3",
   "language": "python",
   "name": "python3"
  },
  "language_info": {
   "codemirror_mode": {
    "name": "ipython",
    "version": 2
   },
   "file_extension": ".py",
   "mimetype": "text/x-python",
   "name": "python",
   "nbconvert_exporter": "python",
   "pygments_lexer": "ipython2",
   "version": "2.7.6"
  }
 },
 "nbformat": 4,
 "nbformat_minor": 5
}
