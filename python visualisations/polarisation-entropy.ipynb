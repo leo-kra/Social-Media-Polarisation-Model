{
 "cells": [
  {
   "metadata": {},
   "cell_type": "code",
   "source": [
    "import pandas as pd\n",
    "import matplotlib.pyplot as plt\n",
    "import numpy as np\n",
    "import seaborn as sns\n",
    "from matplotlib.colors import LinearSegmentedColormap, LogNorm"
   ],
   "id": "8d4dfc252beea7dc",
   "outputs": [],
   "execution_count": null
  },
  {
   "metadata": {},
   "cell_type": "code",
   "source": [
    "experiment = '1'\n",
    "first = f'{experiment}.1'\n",
    "second = f'{experiment}.2'\n",
    "third = f'{experiment}.3'\n",
    "# name = 'online-agent-percentage'"
   ],
   "id": "199d4d8beb190f1a",
   "outputs": [],
   "execution_count": null
  },
  {
   "metadata": {},
   "cell_type": "code",
   "source": [
    "data1 = pd.read_csv('experiments/baseline-experiment.csv', skiprows=6)\n",
    "data2 = pd.read_csv(f'experiments/experiment {first}.csv', skiprows=6)\n",
    "data3 = pd.read_csv(f'experiments/experiment {second}.csv', skiprows=6)\n",
    "data4 = pd.read_csv(f'experiments/experiment {third}.csv', skiprows=6)"
   ],
   "id": "28265bc8293e8fa6",
   "outputs": [],
   "execution_count": null
  },
  {
   "metadata": {},
   "cell_type": "code",
   "source": [
    "def calculate_entropy(data, run_number, num_intervals=10):\n",
    "    entropies = []\n",
    "    run_data = data[data['[run number]'] == run_number]\n",
    "    for _, row in run_data.iterrows():\n",
    "        opinions = list(map(float, row['[opinion] of turtles'].strip('[]').split()))\n",
    "        N = len(opinions)\n",
    "        interval_counts, _ = np.histogram(opinions, bins=num_intervals, range=(0, 1))\n",
    "        entropy = -sum((count / N) * np.log(count / N) for count in interval_counts if count > 0)\n",
    "        entropies.append(entropy)\n",
    "    return entropies\n",
    "\n",
    "entropies1 = calculate_entropy(data1, 1)\n",
    "entropies2 = calculate_entropy(data2, 1)\n",
    "entropies3 = calculate_entropy(data3, 2)\n",
    "entropies4 = calculate_entropy(data4, 4)\n",
    "\n",
    "df = pd.DataFrame({\n",
    "    'run_index': list(range(len(entropies1))) * 4,\n",
    "    'entropy': entropies1 + entropies2 + entropies3 + entropies4,\n",
    "    'run': ['Baseline'] * len(entropies1) + [f'Experiment {first}'] * len(entropies2) + [f'Experiment {second}'] * len(entropies3) + [f'Experiment {third}'] * len(entropies4)\n",
    "})"
   ],
   "id": "9bf2f277c126c17f",
   "outputs": [],
   "execution_count": null
  },
  {
   "metadata": {},
   "cell_type": "code",
   "source": [
    "# plt.figure(figsize=(10, 6))\n",
    "# sns.lineplot(data=df, x='run_index', y='entropy', hue='run', palette='tab20', errorbar=None)\n",
    "# plt.xlabel('Time Steps (t)')\n",
    "# plt.ylabel('Entropy')\n",
    "# plt.ylim(0, 2.5)\n",
    "# plt.grid(True)\n",
    "# plt.legend()\n",
    "# plt.savefig(f'plots/polarisation/entropy/experiment-{experiment}-entropy.png', dpi=300)\n",
    "# plt.show()"
   ],
   "id": "782e60eb88dbc6ff",
   "outputs": [],
   "execution_count": null
  },
  {
   "metadata": {},
   "cell_type": "code",
   "source": [
    "plt.figure(figsize=(10, 6))\n",
    "sns.lineplot(data=df, x='run_index', y='entropy', hue='run', palette='tab20', errorbar=None)\n",
    "plt.xlabel('Time Steps (t)')\n",
    "plt.ylabel('Entropy')\n",
    "plt.xscale('log')\n",
    "plt.yscale('log')\n",
    "plt.grid(True)\n",
    "plt.legend()\n",
    "plt.savefig(f'plots/polarisation/entropy/experiment-{experiment}-entropy-log.png', dpi=300)\n",
    "plt.show()"
   ],
   "id": "c5563d5228f15ca0",
   "outputs": [],
   "execution_count": null
  },
  {
   "metadata": {},
   "cell_type": "code",
   "source": "",
   "id": "d01a128ecfe8ad45",
   "outputs": [],
   "execution_count": null
  }
 ],
 "metadata": {
  "kernelspec": {
   "display_name": "Python 3",
   "language": "python",
   "name": "python3"
  },
  "language_info": {
   "codemirror_mode": {
    "name": "ipython",
    "version": 2
   },
   "file_extension": ".py",
   "mimetype": "text/x-python",
   "name": "python",
   "nbconvert_exporter": "python",
   "pygments_lexer": "ipython2",
   "version": "2.7.6"
  }
 },
 "nbformat": 4,
 "nbformat_minor": 5
}
