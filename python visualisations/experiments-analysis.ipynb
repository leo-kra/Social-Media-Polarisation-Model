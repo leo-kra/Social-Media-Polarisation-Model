{
 "cells": [
  {
   "metadata": {},
   "cell_type": "markdown",
   "source": [
    "BehaviorSpace results (NetLogo 6.4.0)\tTable version 2.0\t\t\t\t\t\t\t\t\t\t\t\t\t\t\t\t\t\t\t\t\t\t\t\t\t\t\n",
    "social-media-polarisation.nlogo\t\t\t\t\t\t\t\t\t\t\t\t\t\t\t\t\t\t\t\t\t\t\t\t\t\t\t\n",
    "Experiment 1.0\t\t\t\t\t\t\t\t\t\t\t\t\t\t\t\t\t\t\t\t\t\t\t\t\t\t\t\n",
    "11/20/2024 18:06:08:141 +0000\t\t\t\t\t\t\t\t\t\t\t\t\t\t\t\t\t\t\t\t\t\t\t\t\t\t\t\n",
    "min-pxcor\tmax-pxcor\tmin-pycor\tmax-pycor\t\t\t\t\t\t\t\t\t\t\t\t\t\t\t\t\t\t\t\t\t\t\t\t\n",
    "-50\t50\t-50\t50\t\t\t\t\t\t\t\t\t\t\t\t\t\t\t\t\t\t\t\t\t\t\t\t"
   ],
   "id": "2943a9410966e606"
  },
  {
   "metadata": {},
   "cell_type": "code",
   "source": [
    "import pandas as pd\n",
    "import matplotlib.pyplot as plt\n",
    "import seaborn as sns\n",
    "import re, random"
   ],
   "id": "397c63cec8c30895",
   "outputs": [],
   "execution_count": null
  },
  {
   "metadata": {},
   "cell_type": "code",
   "source": "str = '1.1'",
   "id": "2052c4b58bd736e8",
   "outputs": [],
   "execution_count": null
  },
  {
   "metadata": {},
   "cell_type": "code",
   "source": [
    "data = pd.read_csv(f'experiments/baseline-experiment.csv' , skiprows=6)\n",
    "# data = data.sort_values('[step]')\n",
    "data.head(5)"
   ],
   "id": "initial_id",
   "outputs": [],
   "execution_count": null
  },
  {
   "metadata": {},
   "cell_type": "code",
   "source": [
    "df = pd.DataFrame(data[['[opinion] of turtles', '[run number]']])\n",
    "df.rename(columns={'[opinion] of turtles': 'opinions', '[run number]': 'run'}, inplace=True)\n",
    "df['opinions'] = df['opinions'].apply(lambda x: re.findall(r\"[-+]?\\d*\\.\\d+|\\d+\", x))\n",
    "df['opinions'] = df['opinions'].apply(lambda x: [float(i) for i in x])\n",
    "df['run_index'] = df.groupby('run').cumcount()\n",
    "# df = df.iloc[::100, :]\n",
    "df.head(5)"
   ],
   "id": "967f20f9806245ec",
   "outputs": [],
   "execution_count": null
  },
  {
   "metadata": {},
   "cell_type": "code",
   "source": [
    "df_exploded = df.explode('opinions')\n",
    "df_exploded.head(5)"
   ],
   "id": "b4f3670b19a9cc4c",
   "outputs": [],
   "execution_count": null
  },
  {
   "metadata": {},
   "cell_type": "code",
   "source": [
    "plt.figure(figsize=(10, 6))\n",
    "ax = sns.lineplot(data=df_exploded, x='run_index', y='opinions', hue='run', palette='tab20', errorbar=None)\n",
    "# plt.title(f'Baseline - Opinions of Turtles Over Iterations and Runs')\n",
    "plt.xlabel('Iteration')\n",
    "plt.ylabel('Opinions')\n",
    "# plt.legend(title='Run Number')\n",
    "\n",
    "new_labels = [32, 51, 59, 71, 92]\n",
    "handles, _ = ax.get_legend_handles_labels()\n",
    "ax.legend(handles=handles, labels=new_labels, title='Run Number')\n",
    "\n",
    "plt.savefig(f'plots/lines/baseline-lines.png', dpi=300)\n",
    "plt.show()"
   ],
   "id": "44b8c8027353612e",
   "outputs": [],
   "execution_count": null
  },
  {
   "metadata": {},
   "cell_type": "code",
   "source": [
    "random_numbers = [random.randint(1, 99) for _ in range(5)]\n",
    "print(random_numbers)"
   ],
   "id": "e672ebfd1ed56a2a",
   "outputs": [],
   "execution_count": null
  },
  {
   "metadata": {},
   "cell_type": "code",
   "source": "",
   "id": "a01ac836ca33d8e",
   "outputs": [],
   "execution_count": null
  }
 ],
 "metadata": {
  "kernelspec": {
   "display_name": "Python 3",
   "language": "python",
   "name": "python3"
  },
  "language_info": {
   "codemirror_mode": {
    "name": "ipython",
    "version": 2
   },
   "file_extension": ".py",
   "mimetype": "text/x-python",
   "name": "python",
   "nbconvert_exporter": "python",
   "pygments_lexer": "ipython2",
   "version": "2.7.6"
  }
 },
 "nbformat": 4,
 "nbformat_minor": 5
}
