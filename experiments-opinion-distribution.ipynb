{
 "cells": [
  {
   "metadata": {},
   "cell_type": "code",
   "source": [
    "import pandas as pd\n",
    "import matplotlib.pyplot as plt\n",
    "from matplotlib.colors import LinearSegmentedColormap, LogNorm"
   ],
   "id": "8d4dfc252beea7dc",
   "outputs": [],
   "execution_count": null
  },
  {
   "metadata": {},
   "cell_type": "code",
   "source": [
    "str = '2.3'\n",
    "num = 4"
   ],
   "id": "4e87f8bfe4c3b3d1",
   "outputs": [],
   "execution_count": null
  },
  {
   "metadata": {},
   "cell_type": "code",
   "source": [
    "data = pd.read_csv(f'experiments/experiment {str}.csv', skiprows=6)\n",
    "data.head(5)"
   ],
   "id": "28265bc8293e8fa6",
   "outputs": [],
   "execution_count": null
  },
  {
   "metadata": {},
   "cell_type": "code",
   "source": [
    "run_1_data = data[data['[run number]'] == num]\n",
    " \n",
    "steps = []\n",
    "opinions = []\n",
    "for _, row in run_1_data.iterrows():\n",
    "    step = row['[step]']\n",
    "    current_opinions = list(map(float, row['[opinion] of turtles'].strip('[]').split()))\n",
    "    steps.extend([step] * len(current_opinions))\n",
    "    opinions.extend(current_opinions)"
   ],
   "id": "9bf2f277c126c17f",
   "outputs": [],
   "execution_count": null
  },
  {
   "metadata": {},
   "cell_type": "code",
   "source": [
    "colours = [(1, 1, 1, 0), (0.75, 0.75, 0.75, 1), (0, 0, 0, 1)]  # Adding alpha transparency to white\n",
    "cmap_name = 'custom_cmap'\n",
    "cmap = LinearSegmentedColormap.from_list(cmap_name, colours, N=100)"
   ],
   "id": "43e8e37f490dc7bf",
   "outputs": [],
   "execution_count": null
  },
  {
   "metadata": {},
   "cell_type": "code",
   "source": [
    "plt.figure(figsize=(10, 5), dpi=300)\n",
    " \n",
    "histogram, xedges, yedges, image = plt.hist2d(steps, opinions, bins=[100, 100], cmap=cmap, norm=LogNorm(vmin=1e-4), density=True)\n",
    " \n",
    "colorbar = plt.colorbar(image, label='Logarithmic Density')\n",
    "colorbar.set_label('Logarithmic Density')\n",
    " \n",
    "plt.xlabel('Step')\n",
    "plt.ylabel('Opinion')\n",
    "plt.title(f'Experiment {str} - Agent Opinion Distribution - Run {num}')\n",
    " \n",
    "plt.grid(True, which='both', linestyle='--', linewidth=0.5, alpha=0.7)\n",
    "plt.savefig(f'plots/clusters/experiment-{str}-run-{num}.png', dpi=300)\n",
    "plt.show()"
   ],
   "id": "1f15bcbd60d2ba51",
   "outputs": [],
   "execution_count": null
  },
  {
   "metadata": {},
   "cell_type": "code",
   "source": "",
   "id": "567e9133cc667c9d",
   "outputs": [],
   "execution_count": null
  }
 ],
 "metadata": {
  "kernelspec": {
   "display_name": "Python 3",
   "language": "python",
   "name": "python3"
  },
  "language_info": {
   "codemirror_mode": {
    "name": "ipython",
    "version": 2
   },
   "file_extension": ".py",
   "mimetype": "text/x-python",
   "name": "python",
   "nbconvert_exporter": "python",
   "pygments_lexer": "ipython2",
   "version": "2.7.6"
  }
 },
 "nbformat": 4,
 "nbformat_minor": 5
}
